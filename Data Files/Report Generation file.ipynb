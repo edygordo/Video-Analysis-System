{
 "cells": [
  {
   "cell_type": "code",
   "execution_count": 1,
   "id": "a48ed027",
   "metadata": {},
   "outputs": [],
   "source": [
    "import pandas as pd\n",
    "import numpy as np"
   ]
  },
  {
   "cell_type": "code",
   "execution_count": 2,
   "id": "d4ee41a5",
   "metadata": {},
   "outputs": [
    {
     "data": {
      "text/html": [
       "<div>\n",
       "<style scoped>\n",
       "    .dataframe tbody tr th:only-of-type {\n",
       "        vertical-align: middle;\n",
       "    }\n",
       "\n",
       "    .dataframe tbody tr th {\n",
       "        vertical-align: top;\n",
       "    }\n",
       "\n",
       "    .dataframe thead th {\n",
       "        text-align: right;\n",
       "    }\n",
       "</style>\n",
       "<table border=\"1\" class=\"dataframe\">\n",
       "  <thead>\n",
       "    <tr style=\"text-align: right;\">\n",
       "      <th></th>\n",
       "      <th>Frame Number</th>\n",
       "      <th>Person Count</th>\n",
       "      <th>Activity Indicator</th>\n",
       "      <th>Seconds</th>\n",
       "    </tr>\n",
       "  </thead>\n",
       "  <tbody>\n",
       "    <tr>\n",
       "      <th>0</th>\n",
       "      <td>0</td>\n",
       "      <td>0</td>\n",
       "      <td>False</td>\n",
       "      <td>0.000000</td>\n",
       "    </tr>\n",
       "    <tr>\n",
       "      <th>1</th>\n",
       "      <td>1</td>\n",
       "      <td>2</td>\n",
       "      <td>False</td>\n",
       "      <td>0.000000</td>\n",
       "    </tr>\n",
       "    <tr>\n",
       "      <th>2</th>\n",
       "      <td>2</td>\n",
       "      <td>2</td>\n",
       "      <td>False</td>\n",
       "      <td>0.033367</td>\n",
       "    </tr>\n",
       "    <tr>\n",
       "      <th>3</th>\n",
       "      <td>3</td>\n",
       "      <td>2</td>\n",
       "      <td>False</td>\n",
       "      <td>0.066733</td>\n",
       "    </tr>\n",
       "    <tr>\n",
       "      <th>4</th>\n",
       "      <td>4</td>\n",
       "      <td>2</td>\n",
       "      <td>False</td>\n",
       "      <td>0.100100</td>\n",
       "    </tr>\n",
       "  </tbody>\n",
       "</table>\n",
       "</div>"
      ],
      "text/plain": [
       "   Frame Number  Person Count  Activity Indicator   Seconds\n",
       "0             0             0               False  0.000000\n",
       "1             1             2               False  0.000000\n",
       "2             2             2               False  0.033367\n",
       "3             3             2               False  0.066733\n",
       "4             4             2               False  0.100100"
      ]
     },
     "execution_count": 2,
     "metadata": {},
     "output_type": "execute_result"
    }
   ],
   "source": [
    "my_file = pd.read_csv('spatial.csv')\n",
    "my_file.head()"
   ]
  },
  {
   "cell_type": "code",
   "execution_count": 14,
   "id": "f18575e0",
   "metadata": {},
   "outputs": [],
   "source": [
    "def extract_Person(row):\n",
    "    return row['Person Count']\n",
    "def extract_Active_Frame(row):\n",
    "    return row['Activity Indicator']\n",
    "def extract_Frame_Number(row,Person):\n",
    "    if row['Person Count'] == Person:\n",
    "        return int(row['Frame Number'])"
   ]
  },
  {
   "cell_type": "code",
   "execution_count": 9,
   "id": "20d5d352",
   "metadata": {},
   "outputs": [],
   "source": [
    "Person_col = my_file['Person Count']\n",
    "Max_people = Person_col.max(axis=0)\n",
    "Min_people = Person_col.min(axis=0)\n",
    "Active_Frames = my_file['Activity Indicator']\n",
    "Total_Frames = len(my_file)"
   ]
  },
  {
   "cell_type": "code",
   "execution_count": 20,
   "id": "5a5e1efb",
   "metadata": {},
   "outputs": [],
   "source": [
    "Busiest_Frames = my_file.apply(extract_Frame_Number,axis=1, args=[Max_people])\n",
    "Busiest_Frames.dropna(inplace=True)\n",
    "Busy_Frame_List = int(Busiest_Frames.values)"
   ]
  },
  {
   "cell_type": "code",
   "execution_count": null,
   "id": "d8eb8113",
   "metadata": {},
   "outputs": [],
   "source": [
    "import cv2\n",
    "\n",
    "# Get 5 Busiest Frames in the processed videos\n",
    "reader = cv2.VideoCapture('../videos/processed/my_video_feed.avi') # The Processed Video frames written by Thread-1\n",
    "Images = []\n",
    "for frame in Busy_Frame_List:\n",
    "    reader.set(cv2.CAP_PROP_POS_FRAMES,frame)\n",
    "    Images.append(reader.read())\n",
    "\n"
   ]
  }
 ],
 "metadata": {
  "kernelspec": {
   "display_name": "Python 3",
   "language": "python",
   "name": "python3"
  },
  "language_info": {
   "codemirror_mode": {
    "name": "ipython",
    "version": 3
   },
   "file_extension": ".py",
   "mimetype": "text/x-python",
   "name": "python",
   "nbconvert_exporter": "python",
   "pygments_lexer": "ipython3",
   "version": "3.8.8"
  }
 },
 "nbformat": 4,
 "nbformat_minor": 5
}
